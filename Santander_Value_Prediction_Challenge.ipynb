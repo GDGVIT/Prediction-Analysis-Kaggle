{
  "cells": [
    {
      "metadata": {
        "_uuid": "8f2839f25d086af736a60e9eeb907d3b93b6e0e5",
        "_cell_guid": "b1076dfc-b9ad-4769-8c92-a6c4dae69d19",
        "trusted": true
      },
      "cell_type": "code",
      "source": "# This Python 3 environment comes with many helpful analytics libraries installed\n# It is defined by the kaggle/python docker image: https://github.com/kaggle/docker-python\n# For example, here's several helpful packages to load in \n\nimport numpy as np # linear algebra\nimport pandas as pd # data processing, CSV file I/O (e.g. pd.read_csv)\n\n# Input data files are available in the \"../input/\" directory.\n# For example, running this (by clicking run or pressing Shift+Enter) will list the files in the input directory\n\nimport os\nprint(os.listdir(\"../input\"))\n\n# Any results you write to the current directory are saved as output.",
      "execution_count": null,
      "outputs": []
    },
    {
      "metadata": {
        "_cell_guid": "79c7e3d0-c299-4dcb-8224-4455121ee9b0",
        "_uuid": "d629ff2d2480ee46fbb7e2d37f6b5fab8052498a",
        "trusted": true
      },
      "cell_type": "code",
      "source": "train=pd.read_csv('../input/train.csv')\ntest=pd.read_csv('../input/test.csv')\ntest_id=test.ID\nprint(train.shape)\nprint(test.shape)",
      "execution_count": null,
      "outputs": []
    },
    {
      "metadata": {
        "trusted": true,
        "_uuid": "5baedaaf0137530aab9513f519c3e33a8cf64231"
      },
      "cell_type": "code",
      "source": "train.head()",
      "execution_count": null,
      "outputs": []
    },
    {
      "metadata": {
        "trusted": true,
        "_uuid": "baaeec158bc424486a36df0dbfc8e4bed1161b22"
      },
      "cell_type": "code",
      "source": "y=train.target\ny=np.log(y+1)\ny.head()",
      "execution_count": null,
      "outputs": []
    },
    {
      "metadata": {
        "trusted": true,
        "_uuid": "a488884a01c0e06874d106f1d0d83fa46ac643d4"
      },
      "cell_type": "code",
      "source": "\ntrain=train.drop(['ID'],axis=1)\ntrain=train.drop(['target'],axis=1)\ntest=test.drop(['ID'],axis=1)",
      "execution_count": null,
      "outputs": []
    },
    {
      "metadata": {
        "trusted": true,
        "_uuid": "75b2e750c05fa663103e1c685f55882038e62d2d"
      },
      "cell_type": "code",
      "source": "unique_df=train.nunique().reset_index()\nunique_df.columns=[\"column\",\"unique_count\"]\nconstant_df=unique_df[unique_df[\"unique_count\"]==1]\nconstant_df.shape",
      "execution_count": null,
      "outputs": []
    },
    {
      "metadata": {
        "trusted": true,
        "_uuid": "445118448278173913b0bfc8c10153a034fedbd6"
      },
      "cell_type": "code",
      "source": "train=train.drop(constant_df['column'],axis=1)\ntest=test.drop(constant_df['column'],axis=1)",
      "execution_count": null,
      "outputs": []
    },
    {
      "metadata": {
        "trusted": true,
        "_uuid": "5f6e7eb5188932f59ca9ac9a5ead97cf041d105d"
      },
      "cell_type": "code",
      "source": "print(train.shape)\nprint(test.shape)",
      "execution_count": null,
      "outputs": []
    },
    {
      "metadata": {
        "trusted": true,
        "_uuid": "fa68b5917630f079866cad503b9fdc23cd9ef03a"
      },
      "cell_type": "code",
      "source": "total=(train==0).sum().sort_values(ascending=True)\npercent=((train==0).sum()/((train==0).count())*100).sort_values(ascending=False)\ntrain_data=pd.concat([total,percent],axis=1,keys=['total','percent'],sort=False)\ntrain_data.head(50)",
      "execution_count": null,
      "outputs": []
    },
    {
      "metadata": {
        "trusted": true,
        "_uuid": "249086a5d3b57b43cc75738cf36e9ff6f536edef"
      },
      "cell_type": "code",
      "source": "cols_used=train_data[train_data.percent<80]\ncols_used.shape",
      "execution_count": null,
      "outputs": []
    },
    {
      "metadata": {
        "trusted": true,
        "_uuid": "129fce21e48652288a96b944f3b07e059f9c2e8c"
      },
      "cell_type": "code",
      "source": "cols_used=cols_used.index\ncols_used.shape",
      "execution_count": null,
      "outputs": []
    },
    {
      "metadata": {
        "trusted": true,
        "_uuid": "b5ddf691b6270ff6d7e17e58b43a75f1ba2a4a03"
      },
      "cell_type": "code",
      "source": "cols_used",
      "execution_count": null,
      "outputs": []
    },
    {
      "metadata": {
        "trusted": true,
        "_uuid": "5e529ced83e44860c46dadfdd97660b6b2880434"
      },
      "cell_type": "code",
      "source": "train=train[cols_used]\ntest=test[cols_used]\nprint(train.shape)\nprint(test.shape)",
      "execution_count": null,
      "outputs": []
    },
    {
      "metadata": {
        "trusted": true,
        "_uuid": "aab6d898f63ecdc73e71ea54bdf22ed813ba3e63"
      },
      "cell_type": "code",
      "source": "",
      "execution_count": null,
      "outputs": []
    },
    {
      "metadata": {
        "trusted": true,
        "_uuid": "7db3be3afa6a1b6dae2c7e0e0c8da1c0e29a8012"
      },
      "cell_type": "code",
      "source": "from sklearn.model_selection import train_test_split\nX_train,X_test,y_train,y_test=train_test_split(train,y,random_state=0)",
      "execution_count": null,
      "outputs": []
    },
    {
      "metadata": {
        "trusted": true,
        "_uuid": "8df332fdec6f9b8afd8785434e284b2bac4c418d"
      },
      "cell_type": "code",
      "source": "def rmsle(x,y):\n    return np.sqrt(np.square(np.log(x-1)-np.log(y-1)).mean())",
      "execution_count": null,
      "outputs": []
    },
    {
      "metadata": {
        "trusted": true,
        "_uuid": "e2c932f74ddfbe36742522a08b02b9e5699ebbd1"
      },
      "cell_type": "code",
      "source": "from sklearn.ensemble import RandomForestRegressor",
      "execution_count": null,
      "outputs": []
    },
    {
      "metadata": {
        "trusted": true,
        "_uuid": "50d88bfe01a99d4fab90b2ff9d402185dfb3292a"
      },
      "cell_type": "code",
      "source": "#model=RandomForestRegressor()\n",
      "execution_count": null,
      "outputs": []
    },
    {
      "metadata": {
        "trusted": true,
        "_uuid": "c170ab80047ff9402db131670fb50e7bbf6427dc"
      },
      "cell_type": "code",
      "source": "'''from sklearn.model_selection import GridSearchCV\nmax_features=[0.5,0.75,0.85,0.95]\nmin_samples_leaf=np.arange(1,15)\nmin_samples_split=np.arange(2,15)\nn_estimators=np.arange(1,11)*10\nparams={'max_features':max_features,'min_samples_leaf':min_samples_leaf,'min_samples_split':min_samples_split,'n_estimators':n_estimators}'''",
      "execution_count": null,
      "outputs": []
    },
    {
      "metadata": {
        "trusted": true,
        "_uuid": "ba213aa321f58ce05f7c0159fda96e697d09b3b3"
      },
      "cell_type": "code",
      "source": "'''grid_search=GridSearchCV(model,param_grid=params)\ngrid_search.fit(train,y)'''",
      "execution_count": null,
      "outputs": []
    },
    {
      "metadata": {
        "trusted": true,
        "_uuid": "5967a436c91338eb57d08584e70495a8d7d7b07f"
      },
      "cell_type": "code",
      "source": "model=RandomForestRegressor(max_features=0.75,n_estimators=100,min_samples_leaf=11,min_samples_split=13)\nmodel.fit(train,y)",
      "execution_count": null,
      "outputs": []
    },
    {
      "metadata": {
        "trusted": true,
        "_uuid": "86c20614ea37d293013af4652283dc4e68186a70"
      },
      "cell_type": "code",
      "source": "print(model.score(train,y))\n#print(model.score(X_test,y_test))",
      "execution_count": null,
      "outputs": []
    },
    {
      "metadata": {
        "trusted": true,
        "_uuid": "0fbd92b9769d3166e7826c8a8e143f64ba79f9a3"
      },
      "cell_type": "code",
      "source": "y_pred=model.predict(X_test)",
      "execution_count": null,
      "outputs": []
    },
    {
      "metadata": {
        "trusted": true,
        "_uuid": "9fe2af50928fc296000f14558c52cf4fda380d45"
      },
      "cell_type": "code",
      "source": "print(rmsle(np.exp(y_pred)-1,np.exp(y_test)-1))",
      "execution_count": null,
      "outputs": []
    },
    {
      "metadata": {
        "trusted": true,
        "_uuid": "3f6a846b9730f96b16b427ed6de622201ae46a49"
      },
      "cell_type": "code",
      "source": "out_test=model.predict(test)",
      "execution_count": null,
      "outputs": []
    },
    {
      "metadata": {
        "trusted": true,
        "_uuid": "ab41946a06eddf181f7d00a322665557a5c643df"
      },
      "cell_type": "code",
      "source": "out_test=np.exp(out_test)-1",
      "execution_count": null,
      "outputs": []
    },
    {
      "metadata": {
        "trusted": true,
        "_uuid": "e4dc8679ed51adadb8731c90a77d0dab2708e9b5"
      },
      "cell_type": "code",
      "source": "out_df=pd.DataFrame(out_test)",
      "execution_count": null,
      "outputs": []
    },
    {
      "metadata": {
        "trusted": true,
        "_uuid": "9dcb452f8fb800bdd34447d071fc5835ccedaee9"
      },
      "cell_type": "code",
      "source": "out_df.columns = ['target']\nout_df.insert(0, 'ID', test_id)\n#out_df",
      "execution_count": null,
      "outputs": []
    },
    {
      "metadata": {
        "trusted": true,
        "_uuid": "7d8be3c02052c9db015770af9048811ebf105b83"
      },
      "cell_type": "code",
      "source": "out_df.to_csv('santander_submission.csv',index=False)",
      "execution_count": null,
      "outputs": []
    },
    {
      "metadata": {
        "trusted": true,
        "_uuid": "3e59ba787dfca0eba551ff3d66ec9754ddae7811"
      },
      "cell_type": "code",
      "source": "#test_id.iloc[23042]",
      "execution_count": null,
      "outputs": []
    },
    {
      "metadata": {
        "trusted": true,
        "_uuid": "189a81b5981f30b85edd3cd7d2728f63d9df24fc"
      },
      "cell_type": "code",
      "source": "#out_df.iloc[23029]",
      "execution_count": null,
      "outputs": []
    },
    {
      "metadata": {
        "trusted": true,
        "_uuid": "fecb4f3e119cc6bdc25f644f17e4a245f2015ae8"
      },
      "cell_type": "code",
      "source": "",
      "execution_count": null,
      "outputs": []
    }
  ],
  "metadata": {
    "kernelspec": {
      "display_name": "Python 3",
      "language": "python",
      "name": "python3"
    },
    "language_info": {
      "name": "python",
      "version": "3.6.6",
      "mimetype": "text/x-python",
      "codemirror_mode": {
        "name": "ipython",
        "version": 3
      },
      "pygments_lexer": "ipython3",
      "nbconvert_exporter": "python",
      "file_extension": ".py"
    }
  },
  "nbformat": 4,
  "nbformat_minor": 1
}