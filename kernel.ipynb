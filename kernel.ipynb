{
  "cells": [
    {
      "metadata": {
        "_uuid": "8f2839f25d086af736a60e9eeb907d3b93b6e0e5",
        "_cell_guid": "b1076dfc-b9ad-4769-8c92-a6c4dae69d19",
        "trusted": true
      },
      "cell_type": "code",
      "source": "# This Python 3 environment comes with many helpful analytics libraries installed\n# It is defined by the kaggle/python docker image: https://github.com/kaggle/docker-python\n# For example, here's several helpful packages to load in \n\nimport numpy as np # linear algebra\nimport pandas as pd # data processing, CSV file I/O (e.g. pd.read_csv)\n\n# Input data files are available in the \"../input/\" directory.\n# For example, running this (by clicking run or pressing Shift+Enter) will list the files in the input directory\n\nimport os\nprint(os.listdir(\"../input\"))\n\n# Any results you write to the current directory are saved as output.",
      "execution_count": null,
      "outputs": []
    },
    {
      "metadata": {
        "_cell_guid": "79c7e3d0-c299-4dcb-8224-4455121ee9b0",
        "_uuid": "d629ff2d2480ee46fbb7e2d37f6b5fab8052498a",
        "trusted": true
      },
      "cell_type": "code",
      "source": "df=pd.read_csv('../input/train.csv')\ndf.head()",
      "execution_count": null,
      "outputs": []
    },
    {
      "metadata": {
        "trusted": true,
        "_uuid": "baaeec158bc424486a36df0dbfc8e4bed1161b22"
      },
      "cell_type": "code",
      "source": "col=list(df.columns)\ndel(col[0])\ndel(col[0])\nY=df['target']\nX=df[col]\nprint(X.shape)\nprint(Y.shape)",
      "execution_count": null,
      "outputs": []
    },
    {
      "metadata": {
        "trusted": true,
        "_uuid": "a488884a01c0e06874d106f1d0d83fa46ac643d4"
      },
      "cell_type": "code",
      "source": "from sklearn.model_selection import train_test_split\nx_train,x_test,y_train,y_test=train_test_split(X,Y,random_state=1)\nprint(x_train.shape)\nprint(y_train.shape)\nprint(x_test.shape)\nprint(y_test.shape)\n",
      "execution_count": null,
      "outputs": []
    },
    {
      "metadata": {
        "trusted": true,
        "_uuid": "09e708cffba609e653c43e042caab13749745fee"
      },
      "cell_type": "code",
      "source": "from sklearn.preprocessing import MinMaxScaler\nscaler=MinMaxScaler()\n\nX_train_s=scaler.fit_transform(x_train)\nX_test_s=scaler.transform(x_test)\n",
      "execution_count": null,
      "outputs": []
    },
    {
      "metadata": {
        "trusted": true,
        "_uuid": "db874cfbb46fc477b6ff8f2f5fdbf52ae80ba95e"
      },
      "cell_type": "code",
      "source": "from sklearn.decomposition import PCA\npca=PCA(.95)\nX_train_n=pca.fit_transform(x_train)\nX_test_n=pca.transform(x_test)\nprint(X_train_n.shape)\nprint(X_test_n.shape)",
      "execution_count": null,
      "outputs": []
    },
    {
      "metadata": {
        "trusted": true,
        "_uuid": "589d6d69bf54ce2e1a6f0d6149864a9e5a08a408"
      },
      "cell_type": "code",
      "source": "from sklearn.tree import DecisionTreeRegressor\nregr=DecisionTreeRegressor(max_depth=3).fit(X_train_n,y_train)",
      "execution_count": null,
      "outputs": []
    },
    {
      "metadata": {
        "trusted": true,
        "_uuid": "8ffb2736a8009cfd954014525c7e4c820258b9e0"
      },
      "cell_type": "code",
      "source": "arr=regr.feature_importances_\n",
      "execution_count": null,
      "outputs": []
    },
    {
      "metadata": {
        "trusted": true,
        "_uuid": "0ae3291efafd58ac96ef4eece3984435d0ae4f82"
      },
      "cell_type": "code",
      "source": "regr.score(X_train_n,y_train)",
      "execution_count": null,
      "outputs": []
    },
    {
      "metadata": {
        "trusted": true,
        "_uuid": "a8ac34c5a550bb0976a834cecb613f489955f402"
      },
      "cell_type": "code",
      "source": "regr.score(X_test_n,y_test)",
      "execution_count": null,
      "outputs": []
    },
    {
      "metadata": {
        "trusted": true,
        "_uuid": "a953ad50be710477914344278ae6f6c93aba445d"
      },
      "cell_type": "code",
      "source": "testdf=pd.read_csv('../input/test.csv')\ntestdf.head()",
      "execution_count": null,
      "outputs": []
    },
    {
      "metadata": {
        "trusted": true,
        "_uuid": "6fdb2111ce869ff0d3bee680de933713a151d17b"
      },
      "cell_type": "code",
      "source": "col=list(testdf.columns)\ndel(col[0])\ntest=testdf[col]\ntest.shape",
      "execution_count": null,
      "outputs": []
    },
    {
      "metadata": {
        "trusted": true,
        "_uuid": "ef87b182173a54401a3c89a2a102e7c50beb3a55"
      },
      "cell_type": "code",
      "source": "test_n=pca.transform(test)",
      "execution_count": null,
      "outputs": []
    },
    {
      "metadata": {
        "trusted": true,
        "_uuid": "2bc57d392a2b367e4671d3650a31eb6764e75ae7"
      },
      "cell_type": "code",
      "source": "test_n.shape",
      "execution_count": null,
      "outputs": []
    },
    {
      "metadata": {
        "trusted": true,
        "_uuid": "98394e18c4e246ed6ccf692e9c309918dcc32d37"
      },
      "cell_type": "code",
      "source": "y_pred=regr.predict(test_n)",
      "execution_count": null,
      "outputs": []
    },
    {
      "metadata": {
        "trusted": true,
        "_uuid": "07f71ebc9be9b4d98a49702d11f2c79807bac68b"
      },
      "cell_type": "code",
      "source": "y_pred.shape",
      "execution_count": null,
      "outputs": []
    },
    {
      "metadata": {
        "trusted": true,
        "_uuid": "bd7acf700b1140bb18e0bd1a2e3500b4de4dc4d8"
      },
      "cell_type": "code",
      "source": "ids=testdf['ID']\nids.shape",
      "execution_count": null,
      "outputs": []
    },
    {
      "metadata": {
        "trusted": true,
        "_uuid": "bc1a8ee42924b5f1ba7c8aaa5dee595c7f433ca9"
      },
      "cell_type": "code",
      "source": "d=dict(zip(list(ids),y_pred))\nsub=pd.DataFrame(list(d.items()),columns=['ID','target'])",
      "execution_count": null,
      "outputs": []
    },
    {
      "metadata": {
        "trusted": true,
        "_uuid": "f9428122082fde73c703e187b6dc50e21d6f194c"
      },
      "cell_type": "code",
      "source": "sub.to_csv('my_submission.csv')",
      "execution_count": null,
      "outputs": []
    },
    {
      "metadata": {
        "trusted": true,
        "_uuid": "3d79313b0acfb029cd424d92e219d46139e57271"
      },
      "cell_type": "code",
      "source": "",
      "execution_count": null,
      "outputs": []
    }
  ],
  "metadata": {
    "kernelspec": {
      "display_name": "Python 3",
      "language": "python",
      "name": "python3"
    },
    "language_info": {
      "name": "python",
      "version": "3.6.6",
      "mimetype": "text/x-python",
      "codemirror_mode": {
        "name": "ipython",
        "version": 3
      },
      "pygments_lexer": "ipython3",
      "nbconvert_exporter": "python",
      "file_extension": ".py"
    }
  },
  "nbformat": 4,
  "nbformat_minor": 1
}